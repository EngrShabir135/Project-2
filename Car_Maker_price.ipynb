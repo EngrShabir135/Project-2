{
 "cells": [
  {
   "cell_type": "code",
   "execution_count": 56,
   "id": "80ba418e",
   "metadata": {},
   "outputs": [],
   "source": [
    "import numpy as np\n",
    "import pandas as pd\n",
    "import matplotlib.pyplot as plt\n",
    "import seaborn as sns"
   ]
  },
  {
   "cell_type": "code",
   "execution_count": 57,
   "id": "2239bd71",
   "metadata": {},
   "outputs": [],
   "source": [
    "df=pd.read_csv(\"CarMakers.csv\")"
   ]
  },
  {
   "cell_type": "code",
   "execution_count": 58,
   "id": "63ba83f5",
   "metadata": {},
   "outputs": [
    {
     "data": {
      "text/html": [
       "<div>\n",
       "<style scoped>\n",
       "    .dataframe tbody tr th:only-of-type {\n",
       "        vertical-align: middle;\n",
       "    }\n",
       "\n",
       "    .dataframe tbody tr th {\n",
       "        vertical-align: top;\n",
       "    }\n",
       "\n",
       "    .dataframe thead th {\n",
       "        text-align: right;\n",
       "    }\n",
       "</style>\n",
       "<table border=\"1\" class=\"dataframe\">\n",
       "  <thead>\n",
       "    <tr style=\"text-align: right;\">\n",
       "      <th></th>\n",
       "      <th>Car ID</th>\n",
       "      <th>make</th>\n",
       "      <th>fuel-type</th>\n",
       "      <th>aspiration</th>\n",
       "      <th>num-of-doors</th>\n",
       "      <th>body-style</th>\n",
       "      <th>drive-wheels</th>\n",
       "      <th>engine-location</th>\n",
       "      <th>wheel-base</th>\n",
       "      <th>length</th>\n",
       "      <th>...</th>\n",
       "      <th>num-of-cylinders</th>\n",
       "      <th>engine-size</th>\n",
       "      <th>bore</th>\n",
       "      <th>stroke</th>\n",
       "      <th>compression-ratio</th>\n",
       "      <th>horsepower</th>\n",
       "      <th>peak-rpm</th>\n",
       "      <th>city-mpg</th>\n",
       "      <th>highway-mpg</th>\n",
       "      <th>price</th>\n",
       "    </tr>\n",
       "  </thead>\n",
       "  <tbody>\n",
       "    <tr>\n",
       "      <th>0</th>\n",
       "      <td>1</td>\n",
       "      <td>alfa-romero</td>\n",
       "      <td>gas</td>\n",
       "      <td>std</td>\n",
       "      <td>two</td>\n",
       "      <td>convertible</td>\n",
       "      <td>rwd</td>\n",
       "      <td>front</td>\n",
       "      <td>88.6</td>\n",
       "      <td>168.8</td>\n",
       "      <td>...</td>\n",
       "      <td>four</td>\n",
       "      <td>130</td>\n",
       "      <td>3.47</td>\n",
       "      <td>2.68</td>\n",
       "      <td>9.0</td>\n",
       "      <td>111</td>\n",
       "      <td>5000</td>\n",
       "      <td>21</td>\n",
       "      <td>27</td>\n",
       "      <td>13495</td>\n",
       "    </tr>\n",
       "    <tr>\n",
       "      <th>1</th>\n",
       "      <td>2</td>\n",
       "      <td>alfa-romero</td>\n",
       "      <td>gas</td>\n",
       "      <td>std</td>\n",
       "      <td>two</td>\n",
       "      <td>convertible</td>\n",
       "      <td>rwd</td>\n",
       "      <td>front</td>\n",
       "      <td>88.6</td>\n",
       "      <td>168.8</td>\n",
       "      <td>...</td>\n",
       "      <td>four</td>\n",
       "      <td>130</td>\n",
       "      <td>3.47</td>\n",
       "      <td>2.68</td>\n",
       "      <td>9.0</td>\n",
       "      <td>111</td>\n",
       "      <td>5000</td>\n",
       "      <td>21</td>\n",
       "      <td>27</td>\n",
       "      <td>16500</td>\n",
       "    </tr>\n",
       "    <tr>\n",
       "      <th>2</th>\n",
       "      <td>3</td>\n",
       "      <td>alfa-romero</td>\n",
       "      <td>gas</td>\n",
       "      <td>std</td>\n",
       "      <td>two</td>\n",
       "      <td>hatchback</td>\n",
       "      <td>rwd</td>\n",
       "      <td>front</td>\n",
       "      <td>94.5</td>\n",
       "      <td>171.2</td>\n",
       "      <td>...</td>\n",
       "      <td>six</td>\n",
       "      <td>152</td>\n",
       "      <td>2.68</td>\n",
       "      <td>3.47</td>\n",
       "      <td>9.0</td>\n",
       "      <td>154</td>\n",
       "      <td>5000</td>\n",
       "      <td>19</td>\n",
       "      <td>26</td>\n",
       "      <td>16500</td>\n",
       "    </tr>\n",
       "    <tr>\n",
       "      <th>3</th>\n",
       "      <td>4</td>\n",
       "      <td>audi</td>\n",
       "      <td>gas</td>\n",
       "      <td>std</td>\n",
       "      <td>four</td>\n",
       "      <td>sedan</td>\n",
       "      <td>fwd</td>\n",
       "      <td>front</td>\n",
       "      <td>99.8</td>\n",
       "      <td>176.6</td>\n",
       "      <td>...</td>\n",
       "      <td>four</td>\n",
       "      <td>109</td>\n",
       "      <td>3.19</td>\n",
       "      <td>3.40</td>\n",
       "      <td>10.0</td>\n",
       "      <td>102</td>\n",
       "      <td>5500</td>\n",
       "      <td>24</td>\n",
       "      <td>30</td>\n",
       "      <td>13950</td>\n",
       "    </tr>\n",
       "    <tr>\n",
       "      <th>4</th>\n",
       "      <td>5</td>\n",
       "      <td>audi</td>\n",
       "      <td>gas</td>\n",
       "      <td>std</td>\n",
       "      <td>four</td>\n",
       "      <td>sedan</td>\n",
       "      <td>4wd</td>\n",
       "      <td>front</td>\n",
       "      <td>99.4</td>\n",
       "      <td>176.6</td>\n",
       "      <td>...</td>\n",
       "      <td>five</td>\n",
       "      <td>136</td>\n",
       "      <td>3.19</td>\n",
       "      <td>3.40</td>\n",
       "      <td>8.0</td>\n",
       "      <td>115</td>\n",
       "      <td>5500</td>\n",
       "      <td>18</td>\n",
       "      <td>22</td>\n",
       "      <td>17450</td>\n",
       "    </tr>\n",
       "  </tbody>\n",
       "</table>\n",
       "<p>5 rows × 23 columns</p>\n",
       "</div>"
      ],
      "text/plain": [
       "   Car ID         make fuel-type aspiration num-of-doors   body-style  \\\n",
       "0       1  alfa-romero       gas        std          two  convertible   \n",
       "1       2  alfa-romero       gas        std          two  convertible   \n",
       "2       3  alfa-romero       gas        std          two    hatchback   \n",
       "3       4         audi       gas        std         four        sedan   \n",
       "4       5         audi       gas        std         four        sedan   \n",
       "\n",
       "  drive-wheels engine-location  wheel-base  length  ...  num-of-cylinders  \\\n",
       "0          rwd           front        88.6   168.8  ...              four   \n",
       "1          rwd           front        88.6   168.8  ...              four   \n",
       "2          rwd           front        94.5   171.2  ...               six   \n",
       "3          fwd           front        99.8   176.6  ...              four   \n",
       "4          4wd           front        99.4   176.6  ...              five   \n",
       "\n",
       "   engine-size  bore stroke  compression-ratio  horsepower  peak-rpm  \\\n",
       "0          130  3.47   2.68                9.0         111      5000   \n",
       "1          130  3.47   2.68                9.0         111      5000   \n",
       "2          152  2.68   3.47                9.0         154      5000   \n",
       "3          109  3.19   3.40               10.0         102      5500   \n",
       "4          136  3.19   3.40                8.0         115      5500   \n",
       "\n",
       "   city-mpg  highway-mpg  price  \n",
       "0        21           27  13495  \n",
       "1        21           27  16500  \n",
       "2        19           26  16500  \n",
       "3        24           30  13950  \n",
       "4        18           22  17450  \n",
       "\n",
       "[5 rows x 23 columns]"
      ]
     },
     "execution_count": 58,
     "metadata": {},
     "output_type": "execute_result"
    }
   ],
   "source": [
    "df.head()"
   ]
  },
  {
   "cell_type": "markdown",
   "id": "7f4dd790",
   "metadata": {},
   "source": [
    "Steps\n",
    "1. Data cleaning\n",
    "2. EDA\n",
    "3. Pre processing\n",
    "4. Algorithms\n",
    "5. website\n",
    "6. Github"
   ]
  },
  {
   "cell_type": "markdown",
   "id": "46aed385",
   "metadata": {},
   "source": [
    "# Data cleaning"
   ]
  },
  {
   "cell_type": "code",
   "execution_count": 59,
   "id": "bed93dd1",
   "metadata": {},
   "outputs": [
    {
     "data": {
      "text/plain": [
       "(195, 23)"
      ]
     },
     "execution_count": 59,
     "metadata": {},
     "output_type": "execute_result"
    }
   ],
   "source": [
    "df.shape"
   ]
  },
  {
   "cell_type": "code",
   "execution_count": 60,
   "id": "ea9a1f73",
   "metadata": {},
   "outputs": [
    {
     "data": {
      "text/html": [
       "<div>\n",
       "<style scoped>\n",
       "    .dataframe tbody tr th:only-of-type {\n",
       "        vertical-align: middle;\n",
       "    }\n",
       "\n",
       "    .dataframe tbody tr th {\n",
       "        vertical-align: top;\n",
       "    }\n",
       "\n",
       "    .dataframe thead th {\n",
       "        text-align: right;\n",
       "    }\n",
       "</style>\n",
       "<table border=\"1\" class=\"dataframe\">\n",
       "  <thead>\n",
       "    <tr style=\"text-align: right;\">\n",
       "      <th></th>\n",
       "      <th>Car ID</th>\n",
       "      <th>make</th>\n",
       "      <th>fuel-type</th>\n",
       "      <th>aspiration</th>\n",
       "      <th>num-of-doors</th>\n",
       "      <th>body-style</th>\n",
       "      <th>drive-wheels</th>\n",
       "      <th>engine-location</th>\n",
       "      <th>wheel-base</th>\n",
       "      <th>length</th>\n",
       "      <th>...</th>\n",
       "      <th>num-of-cylinders</th>\n",
       "      <th>engine-size</th>\n",
       "      <th>bore</th>\n",
       "      <th>stroke</th>\n",
       "      <th>compression-ratio</th>\n",
       "      <th>horsepower</th>\n",
       "      <th>peak-rpm</th>\n",
       "      <th>city-mpg</th>\n",
       "      <th>highway-mpg</th>\n",
       "      <th>price</th>\n",
       "    </tr>\n",
       "  </thead>\n",
       "  <tbody>\n",
       "    <tr>\n",
       "      <th>151</th>\n",
       "      <td>152</td>\n",
       "      <td>toyota</td>\n",
       "      <td>gas</td>\n",
       "      <td>std</td>\n",
       "      <td>four</td>\n",
       "      <td>hatchback</td>\n",
       "      <td>fwd</td>\n",
       "      <td>front</td>\n",
       "      <td>95.7</td>\n",
       "      <td>166.3</td>\n",
       "      <td>...</td>\n",
       "      <td>four</td>\n",
       "      <td>98</td>\n",
       "      <td>3.19</td>\n",
       "      <td>3.03</td>\n",
       "      <td>9.0</td>\n",
       "      <td>70</td>\n",
       "      <td>4800</td>\n",
       "      <td>28</td>\n",
       "      <td>34</td>\n",
       "      <td>8358</td>\n",
       "    </tr>\n",
       "    <tr>\n",
       "      <th>160</th>\n",
       "      <td>161</td>\n",
       "      <td>toyota</td>\n",
       "      <td>gas</td>\n",
       "      <td>std</td>\n",
       "      <td>two</td>\n",
       "      <td>hardtop</td>\n",
       "      <td>rwd</td>\n",
       "      <td>front</td>\n",
       "      <td>98.4</td>\n",
       "      <td>176.2</td>\n",
       "      <td>...</td>\n",
       "      <td>four</td>\n",
       "      <td>146</td>\n",
       "      <td>3.62</td>\n",
       "      <td>3.50</td>\n",
       "      <td>9.3</td>\n",
       "      <td>116</td>\n",
       "      <td>4800</td>\n",
       "      <td>24</td>\n",
       "      <td>30</td>\n",
       "      <td>11199</td>\n",
       "    </tr>\n",
       "    <tr>\n",
       "      <th>136</th>\n",
       "      <td>137</td>\n",
       "      <td>subaru</td>\n",
       "      <td>gas</td>\n",
       "      <td>std</td>\n",
       "      <td>four</td>\n",
       "      <td>wagon</td>\n",
       "      <td>fwd</td>\n",
       "      <td>front</td>\n",
       "      <td>97.0</td>\n",
       "      <td>173.5</td>\n",
       "      <td>...</td>\n",
       "      <td>four</td>\n",
       "      <td>108</td>\n",
       "      <td>3.62</td>\n",
       "      <td>2.64</td>\n",
       "      <td>9.0</td>\n",
       "      <td>82</td>\n",
       "      <td>4800</td>\n",
       "      <td>28</td>\n",
       "      <td>32</td>\n",
       "      <td>7463</td>\n",
       "    </tr>\n",
       "  </tbody>\n",
       "</table>\n",
       "<p>3 rows × 23 columns</p>\n",
       "</div>"
      ],
      "text/plain": [
       "     Car ID    make fuel-type aspiration num-of-doors body-style drive-wheels  \\\n",
       "151     152  toyota       gas        std         four  hatchback          fwd   \n",
       "160     161  toyota       gas        std          two    hardtop          rwd   \n",
       "136     137  subaru       gas        std         four      wagon          fwd   \n",
       "\n",
       "    engine-location  wheel-base  length  ...  num-of-cylinders  engine-size  \\\n",
       "151           front        95.7   166.3  ...              four           98   \n",
       "160           front        98.4   176.2  ...              four          146   \n",
       "136           front        97.0   173.5  ...              four          108   \n",
       "\n",
       "     bore stroke  compression-ratio  horsepower  peak-rpm  city-mpg  \\\n",
       "151  3.19   3.03                9.0          70      4800        28   \n",
       "160  3.62   3.50                9.3         116      4800        24   \n",
       "136  3.62   2.64                9.0          82      4800        28   \n",
       "\n",
       "     highway-mpg  price  \n",
       "151           34   8358  \n",
       "160           30  11199  \n",
       "136           32   7463  \n",
       "\n",
       "[3 rows x 23 columns]"
      ]
     },
     "execution_count": 60,
     "metadata": {},
     "output_type": "execute_result"
    }
   ],
   "source": [
    "df.sample(3)"
   ]
  },
  {
   "cell_type": "code",
   "execution_count": 61,
   "id": "d3b0a453",
   "metadata": {},
   "outputs": [],
   "source": [
    "df['make']=df['make'].astype(\"category\")"
   ]
  },
  {
   "cell_type": "code",
   "execution_count": 62,
   "id": "d231b6dc",
   "metadata": {},
   "outputs": [],
   "source": [
    "df.drop(columns=['Car ID','wheel-base','length','width','height','curb-weight','bore','compression-ratio','horsepower','peak-rpm','city-mpg','highway-mpg'],axis='columns',inplace=True)"
   ]
  },
  {
   "cell_type": "code",
   "execution_count": 63,
   "id": "cf32189b",
   "metadata": {},
   "outputs": [
    {
     "data": {
      "text/html": [
       "<div>\n",
       "<style scoped>\n",
       "    .dataframe tbody tr th:only-of-type {\n",
       "        vertical-align: middle;\n",
       "    }\n",
       "\n",
       "    .dataframe tbody tr th {\n",
       "        vertical-align: top;\n",
       "    }\n",
       "\n",
       "    .dataframe thead th {\n",
       "        text-align: right;\n",
       "    }\n",
       "</style>\n",
       "<table border=\"1\" class=\"dataframe\">\n",
       "  <thead>\n",
       "    <tr style=\"text-align: right;\">\n",
       "      <th></th>\n",
       "      <th>make</th>\n",
       "      <th>fuel-type</th>\n",
       "      <th>aspiration</th>\n",
       "      <th>num-of-doors</th>\n",
       "      <th>body-style</th>\n",
       "      <th>drive-wheels</th>\n",
       "      <th>engine-location</th>\n",
       "      <th>num-of-cylinders</th>\n",
       "      <th>engine-size</th>\n",
       "      <th>stroke</th>\n",
       "      <th>price</th>\n",
       "    </tr>\n",
       "  </thead>\n",
       "  <tbody>\n",
       "    <tr>\n",
       "      <th>0</th>\n",
       "      <td>alfa-romero</td>\n",
       "      <td>gas</td>\n",
       "      <td>std</td>\n",
       "      <td>two</td>\n",
       "      <td>convertible</td>\n",
       "      <td>rwd</td>\n",
       "      <td>front</td>\n",
       "      <td>four</td>\n",
       "      <td>130</td>\n",
       "      <td>2.68</td>\n",
       "      <td>13495</td>\n",
       "    </tr>\n",
       "    <tr>\n",
       "      <th>1</th>\n",
       "      <td>alfa-romero</td>\n",
       "      <td>gas</td>\n",
       "      <td>std</td>\n",
       "      <td>two</td>\n",
       "      <td>convertible</td>\n",
       "      <td>rwd</td>\n",
       "      <td>front</td>\n",
       "      <td>four</td>\n",
       "      <td>130</td>\n",
       "      <td>2.68</td>\n",
       "      <td>16500</td>\n",
       "    </tr>\n",
       "    <tr>\n",
       "      <th>2</th>\n",
       "      <td>alfa-romero</td>\n",
       "      <td>gas</td>\n",
       "      <td>std</td>\n",
       "      <td>two</td>\n",
       "      <td>hatchback</td>\n",
       "      <td>rwd</td>\n",
       "      <td>front</td>\n",
       "      <td>six</td>\n",
       "      <td>152</td>\n",
       "      <td>3.47</td>\n",
       "      <td>16500</td>\n",
       "    </tr>\n",
       "    <tr>\n",
       "      <th>3</th>\n",
       "      <td>audi</td>\n",
       "      <td>gas</td>\n",
       "      <td>std</td>\n",
       "      <td>four</td>\n",
       "      <td>sedan</td>\n",
       "      <td>fwd</td>\n",
       "      <td>front</td>\n",
       "      <td>four</td>\n",
       "      <td>109</td>\n",
       "      <td>3.40</td>\n",
       "      <td>13950</td>\n",
       "    </tr>\n",
       "    <tr>\n",
       "      <th>4</th>\n",
       "      <td>audi</td>\n",
       "      <td>gas</td>\n",
       "      <td>std</td>\n",
       "      <td>four</td>\n",
       "      <td>sedan</td>\n",
       "      <td>4wd</td>\n",
       "      <td>front</td>\n",
       "      <td>five</td>\n",
       "      <td>136</td>\n",
       "      <td>3.40</td>\n",
       "      <td>17450</td>\n",
       "    </tr>\n",
       "  </tbody>\n",
       "</table>\n",
       "</div>"
      ],
      "text/plain": [
       "          make fuel-type aspiration num-of-doors   body-style drive-wheels  \\\n",
       "0  alfa-romero       gas        std          two  convertible          rwd   \n",
       "1  alfa-romero       gas        std          two  convertible          rwd   \n",
       "2  alfa-romero       gas        std          two    hatchback          rwd   \n",
       "3         audi       gas        std         four        sedan          fwd   \n",
       "4         audi       gas        std         four        sedan          4wd   \n",
       "\n",
       "  engine-location num-of-cylinders  engine-size  stroke  price  \n",
       "0           front             four          130    2.68  13495  \n",
       "1           front             four          130    2.68  16500  \n",
       "2           front              six          152    3.47  16500  \n",
       "3           front             four          109    3.40  13950  \n",
       "4           front             five          136    3.40  17450  "
      ]
     },
     "execution_count": 63,
     "metadata": {},
     "output_type": "execute_result"
    }
   ],
   "source": [
    "df.head()"
   ]
  },
  {
   "cell_type": "code",
   "execution_count": 64,
   "id": "1a149a80",
   "metadata": {},
   "outputs": [
    {
     "name": "stdout",
     "output_type": "stream",
     "text": [
      "<class 'pandas.core.frame.DataFrame'>\n",
      "RangeIndex: 195 entries, 0 to 194\n",
      "Data columns (total 11 columns):\n",
      " #   Column            Non-Null Count  Dtype   \n",
      "---  ------            --------------  -----   \n",
      " 0   make              195 non-null    category\n",
      " 1   fuel-type         195 non-null    object  \n",
      " 2   aspiration        195 non-null    object  \n",
      " 3   num-of-doors      195 non-null    object  \n",
      " 4   body-style        195 non-null    object  \n",
      " 5   drive-wheels      195 non-null    object  \n",
      " 6   engine-location   195 non-null    object  \n",
      " 7   num-of-cylinders  195 non-null    object  \n",
      " 8   engine-size       195 non-null    int64   \n",
      " 9   stroke            195 non-null    float64 \n",
      " 10  price             195 non-null    int64   \n",
      "dtypes: category(1), float64(1), int64(2), object(7)\n",
      "memory usage: 16.3+ KB\n"
     ]
    }
   ],
   "source": [
    "df.info()"
   ]
  },
  {
   "cell_type": "code",
   "execution_count": 65,
   "id": "aa316e72",
   "metadata": {},
   "outputs": [
    {
     "data": {
      "text/plain": [
       "toyota           32\n",
       "nissan           18\n",
       "honda            13\n",
       "mazda            13\n",
       "mitsubishi       13\n",
       "volkswagen       12\n",
       "subaru           12\n",
       "volvo            11\n",
       "peugot           11\n",
       "dodge             9\n",
       "bmw               8\n",
       "mercedes-benz     8\n",
       "plymouth          7\n",
       "saab              6\n",
       "audi              6\n",
       "porsche           4\n",
       "alfa-romero       3\n",
       "jaguar            3\n",
       "chevrolet         3\n",
       "isuzu             2\n",
       "mercury           1\n",
       "Name: make, dtype: int64"
      ]
     },
     "execution_count": 65,
     "metadata": {},
     "output_type": "execute_result"
    }
   ],
   "source": [
    "df['make'].value_counts()"
   ]
  },
  {
   "cell_type": "code",
   "execution_count": 66,
   "id": "09e839d9",
   "metadata": {},
   "outputs": [],
   "source": [
    "import squarify"
   ]
  },
  {
   "cell_type": "code",
   "execution_count": 83,
   "id": "6f23606e",
   "metadata": {},
   "outputs": [],
   "source": [
    "size=df['make'].value_counts().values.tolist()\n",
    "labels=df['make'].value_counts().index.tolist()"
   ]
  },
  {
   "cell_type": "code",
   "execution_count": 84,
   "id": "71ed3f58",
   "metadata": {},
   "outputs": [
    {
     "data": {
      "image/png": "[encoded data removed]",
      "text/plain": [
       "<Figure size 640x480 with 1 Axes>"
      ]
     },
     "metadata": {},
     "output_type": "display_data"
    }
   ],
   "source": [
    "squarify.plot(sizes=size,label=labels,alpha=0.8)\n",
    "plt.title(\"treemap\")\n",
    "plt.show()"
   ]
  },
  {
   "cell_type": "code",
   "execution_count": 69,
   "id": "63fde41c",
   "metadata": {},
   "outputs": [
    {
     "name": "stderr",
     "output_type": "stream",
     "text": [
      "C:\\ProgramData\\Anaconda3\\lib\\site-packages\\seaborn\\_decorators.py:36: FutureWarning: Pass the following variable as a keyword arg: x. From version 0.12, the only valid positional argument will be `data`, and passing other arguments without an explicit keyword will result in an error or misinterpretation.\n",
      "  warnings.warn(\n"
     ]
    },
    {
     "data": {
      "image/png": "[encoded data removed]",
      "text/plain": [
       "<Figure size 640x480 with 1 Axes>"
      ]
     },
     "metadata": {},
     "output_type": "display_data"
    }
   ],
   "source": [
    "sns.boxplot(df['price']);"
   ]
  },
  {
   "cell_type": "code",
   "execution_count": 70,
   "id": "cfb4d0da",
   "metadata": {},
   "outputs": [],
   "source": [
    "percentile25=df['price'].quantile(0.25)\n",
    "percentile75=df['price'].quantile(0.75)"
   ]
  },
  {
   "cell_type": "code",
   "execution_count": 71,
   "id": "a8a5314b",
   "metadata": {},
   "outputs": [],
   "source": [
    "iqr=percentile75 - percentile25"
   ]
  },
  {
   "cell_type": "code",
   "execution_count": 72,
   "id": "5ed5e368",
   "metadata": {},
   "outputs": [],
   "source": [
    "uper_limit=percentile75 + 1.5*iqr\n",
    "lower_limit=percentile25 - 1.5*iqr"
   ]
  },
  {
   "cell_type": "code",
   "execution_count": 73,
   "id": "01525867",
   "metadata": {},
   "outputs": [
    {
     "data": {
      "text/plain": [
       "29637.75"
      ]
     },
     "execution_count": 73,
     "metadata": {},
     "output_type": "execute_result"
    }
   ],
   "source": [
    "uper_limit"
   ]
  },
  {
   "cell_type": "code",
   "execution_count": 74,
   "id": "19a21c50",
   "metadata": {},
   "outputs": [
    {
     "data": {
      "text/plain": [
       "-5372.25"
      ]
     },
     "execution_count": 74,
     "metadata": {},
     "output_type": "execute_result"
    }
   ],
   "source": [
    "lower_limit"
   ]
  },
  {
   "cell_type": "code",
   "execution_count": 75,
   "id": "c1e576d4",
   "metadata": {},
   "outputs": [],
   "source": [
    "df_new=df[df['price']<uper_limit]"
   ]
  },
  {
   "cell_type": "code",
   "execution_count": 76,
   "id": "dca6d485",
   "metadata": {},
   "outputs": [
    {
     "name": "stderr",
     "output_type": "stream",
     "text": [
      "C:\\ProgramData\\Anaconda3\\lib\\site-packages\\seaborn\\_decorators.py:36: FutureWarning: Pass the following variable as a keyword arg: x. From version 0.12, the only valid positional argument will be `data`, and passing other arguments without an explicit keyword will result in an error or misinterpretation.\n",
      "  warnings.warn(\n",
      "C:\\ProgramData\\Anaconda3\\lib\\site-packages\\seaborn\\_decorators.py:36: FutureWarning: Pass the following variable as a keyword arg: x. From version 0.12, the only valid positional argument will be `data`, and passing other arguments without an explicit keyword will result in an error or misinterpretation.\n",
      "  warnings.warn(\n"
     ]
    },
    {
     "data": {
      "image/png": "[encoded data removed]",
      "text/plain": [
       "<Figure size 1500x500 with 2 Axes>"
      ]
     },
     "metadata": {},
     "output_type": "display_data"
    }
   ],
   "source": [
    "fig,axis=plt.subplots(1,2,figsize=(15,5))\n",
    "sns.boxplot(df['price'],ax=axis[0])\n",
    "sns.boxplot(df_new['price'],ax=axis[1])\n",
    "plt.show()"
   ]
  },
  {
   "cell_type": "code",
   "execution_count": 88,
   "id": "1cc74250",
   "metadata": {},
   "outputs": [
    {
     "data": {
      "text/html": [
       "<div>\n",
       "<style scoped>\n",
       "    .dataframe tbody tr th:only-of-type {\n",
       "        vertical-align: middle;\n",
       "    }\n",
       "\n",
       "    .dataframe tbody tr th {\n",
       "        vertical-align: top;\n",
       "    }\n",
       "\n",
       "    .dataframe thead th {\n",
       "        text-align: right;\n",
       "    }\n",
       "</style>\n",
       "<table border=\"1\" class=\"dataframe\">\n",
       "  <thead>\n",
       "    <tr style=\"text-align: right;\">\n",
       "      <th></th>\n",
       "      <th>make</th>\n",
       "      <th>fuel-type</th>\n",
       "      <th>aspiration</th>\n",
       "      <th>num-of-doors</th>\n",
       "      <th>body-style</th>\n",
       "      <th>drive-wheels</th>\n",
       "      <th>engine-location</th>\n",
       "      <th>num-of-cylinders</th>\n",
       "      <th>engine-size</th>\n",
       "      <th>stroke</th>\n",
       "      <th>price</th>\n",
       "    </tr>\n",
       "  </thead>\n",
       "  <tbody>\n",
       "    <tr>\n",
       "      <th>143</th>\n",
       "      <td>toyota</td>\n",
       "      <td>gas</td>\n",
       "      <td>std</td>\n",
       "      <td>four</td>\n",
       "      <td>wagon</td>\n",
       "      <td>fwd</td>\n",
       "      <td>front</td>\n",
       "      <td>four</td>\n",
       "      <td>92</td>\n",
       "      <td>3.03</td>\n",
       "      <td>6918</td>\n",
       "    </tr>\n",
       "    <tr>\n",
       "      <th>21</th>\n",
       "      <td>dodge</td>\n",
       "      <td>gas</td>\n",
       "      <td>std</td>\n",
       "      <td>two</td>\n",
       "      <td>hatchback</td>\n",
       "      <td>fwd</td>\n",
       "      <td>front</td>\n",
       "      <td>four</td>\n",
       "      <td>90</td>\n",
       "      <td>3.23</td>\n",
       "      <td>6377</td>\n",
       "    </tr>\n",
       "  </tbody>\n",
       "</table>\n",
       "</div>"
      ],
      "text/plain": [
       "       make fuel-type aspiration num-of-doors body-style drive-wheels  \\\n",
       "143  toyota       gas        std         four      wagon          fwd   \n",
       "21    dodge       gas        std          two  hatchback          fwd   \n",
       "\n",
       "    engine-location num-of-cylinders  engine-size  stroke  price  \n",
       "143           front             four           92    3.03   6918  \n",
       "21            front             four           90    3.23   6377  "
      ]
     },
     "execution_count": 88,
     "metadata": {},
     "output_type": "execute_result"
    }
   ],
   "source": [
    "df_new.sample(2)"
   ]
  },
  {
   "cell_type": "markdown",
   "id": "1cdbd23a",
   "metadata": {},
   "source": [
    "# Pre processing"
   ]
  },
  {
   "cell_type": "code",
   "execution_count": 89,
   "id": "c697e794",
   "metadata": {},
   "outputs": [],
   "source": [
    "from sklearn.preprocessing import OneHotEncoder\n",
    "from sklearn.preprocessing import OrdinalEncoder\n",
    "from sklearn.model_selection import train_test_split\n",
    "from sklearn.compose import ColumnTransformer\n",
    "from sklearn.pipeline import Pipeline\n",
    "from sklearn.tree import DecisionTreeClassifier\n",
    "from sklearn.linear_model import LogisticRegression\n",
    "from sklearn.linear_model import LinearRegression"
   ]
  },
  {
   "cell_type": "code",
   "execution_count": 90,
   "id": "86e4c51a",
   "metadata": {},
   "outputs": [
    {
     "data": {
      "text/html": [
       "<div>\n",
       "<style scoped>\n",
       "    .dataframe tbody tr th:only-of-type {\n",
       "        vertical-align: middle;\n",
       "    }\n",
       "\n",
       "    .dataframe tbody tr th {\n",
       "        vertical-align: top;\n",
       "    }\n",
       "\n",
       "    .dataframe thead th {\n",
       "        text-align: right;\n",
       "    }\n",
       "</style>\n",
       "<table border=\"1\" class=\"dataframe\">\n",
       "  <thead>\n",
       "    <tr style=\"text-align: right;\">\n",
       "      <th></th>\n",
       "      <th>make</th>\n",
       "      <th>fuel-type</th>\n",
       "      <th>aspiration</th>\n",
       "      <th>num-of-doors</th>\n",
       "      <th>body-style</th>\n",
       "      <th>drive-wheels</th>\n",
       "      <th>engine-location</th>\n",
       "      <th>num-of-cylinders</th>\n",
       "      <th>engine-size</th>\n",
       "      <th>stroke</th>\n",
       "      <th>price</th>\n",
       "    </tr>\n",
       "  </thead>\n",
       "  <tbody>\n",
       "    <tr>\n",
       "      <th>31</th>\n",
       "      <td>honda</td>\n",
       "      <td>gas</td>\n",
       "      <td>std</td>\n",
       "      <td>two</td>\n",
       "      <td>hatchback</td>\n",
       "      <td>fwd</td>\n",
       "      <td>front</td>\n",
       "      <td>four</td>\n",
       "      <td>79</td>\n",
       "      <td>3.07</td>\n",
       "      <td>5399</td>\n",
       "    </tr>\n",
       "    <tr>\n",
       "      <th>69</th>\n",
       "      <td>mitsubishi</td>\n",
       "      <td>gas</td>\n",
       "      <td>std</td>\n",
       "      <td>two</td>\n",
       "      <td>hatchback</td>\n",
       "      <td>fwd</td>\n",
       "      <td>front</td>\n",
       "      <td>four</td>\n",
       "      <td>92</td>\n",
       "      <td>3.23</td>\n",
       "      <td>5389</td>\n",
       "    </tr>\n",
       "  </tbody>\n",
       "</table>\n",
       "</div>"
      ],
      "text/plain": [
       "          make fuel-type aspiration num-of-doors body-style drive-wheels  \\\n",
       "31       honda       gas        std          two  hatchback          fwd   \n",
       "69  mitsubishi       gas        std          two  hatchback          fwd   \n",
       "\n",
       "   engine-location num-of-cylinders  engine-size  stroke  price  \n",
       "31           front             four           79    3.07   5399  \n",
       "69           front             four           92    3.23   5389  "
      ]
     },
     "execution_count": 90,
     "metadata": {},
     "output_type": "execute_result"
    }
   ],
   "source": [
    "df.sample(2)"
   ]
  },
  {
   "cell_type": "code",
   "execution_count": 91,
   "id": "d09e8af2",
   "metadata": {},
   "outputs": [],
   "source": [
    "x=df.drop('price',axis='columns')"
   ]
  },
  {
   "cell_type": "code",
   "execution_count": 92,
   "id": "ab33e6c4",
   "metadata": {},
   "outputs": [],
   "source": [
    "y=df['price']"
   ]
  },
  {
   "cell_type": "code",
   "execution_count": 93,
   "id": "9deb9a73",
   "metadata": {},
   "outputs": [],
   "source": [
    "x_train,x_test,y_train,y_test=train_test_split(x,y,test_size=0.2,random_state=42)"
   ]
  },
  {
   "cell_type": "code",
   "execution_count": 94,
   "id": "d8abceb0",
   "metadata": {},
   "outputs": [],
   "source": [
    "trf1=ColumnTransformer([\n",
    "    (\"ohe\",OneHotEncoder(sparse=False,handle_unknown='ignore'),[0,1,2,4,5,6])\n",
    "],remainder=\"passthrough\")"
   ]
  },
  {
   "cell_type": "code",
   "execution_count": 95,
   "id": "64d29696",
   "metadata": {},
   "outputs": [],
   "source": [
    "trf2=ColumnTransformer([\n",
    "    (\"ore\",OrdinalEncoder(categories=[[\"two\",\"four\"],[\"three\",\"four\",\"five\",\"six\",\"eight\",\"twelve\"]]),[3,7])\n",
    "],remainder=\"passthrough\")"
   ]
  },
  {
   "cell_type": "code",
   "execution_count": 96,
   "id": "40f99d7d",
   "metadata": {},
   "outputs": [],
   "source": [
    "trf3=LinearRegression()"
   ]
  },
  {
   "cell_type": "code",
   "execution_count": 97,
   "id": "1bbe007f",
   "metadata": {},
   "outputs": [],
   "source": [
    "pipe=Pipeline([\n",
    "    (\"trf1\",trf1),\n",
    "    (\"trf2\",trf2),\n",
    "    (\"trf3\",trf3)\n",
    "])"
   ]
  },
  {
   "cell_type": "code",
   "execution_count": 98,
   "id": "5a9937d8",
   "metadata": {},
   "outputs": [
    {
     "data": {
      "text/plain": [
       "toyota           32\n",
       "nissan           18\n",
       "honda            13\n",
       "mazda            13\n",
       "mitsubishi       13\n",
       "volkswagen       12\n",
       "subaru           12\n",
       "volvo            11\n",
       "peugot           11\n",
       "dodge             9\n",
       "bmw               8\n",
       "mercedes-benz     8\n",
       "plymouth          7\n",
       "saab              6\n",
       "audi              6\n",
       "porsche           4\n",
       "alfa-romero       3\n",
       "jaguar            3\n",
       "chevrolet         3\n",
       "isuzu             2\n",
       "mercury           1\n",
       "Name: make, dtype: int64"
      ]
     },
     "execution_count": 98,
     "metadata": {},
     "output_type": "execute_result"
    }
   ],
   "source": [
    "df['make'].value_counts()"
   ]
  },
  {
   "cell_type": "code",
   "execution_count": 99,
   "id": "c6517094",
   "metadata": {},
   "outputs": [],
   "source": [
    "df_make=df['make'].value_counts().values"
   ]
  },
  {
   "cell_type": "code",
   "execution_count": 100,
   "id": "99720c91",
   "metadata": {},
   "outputs": [],
   "source": [
    "threshold = 11\n",
    "make_counts = df['make'].value_counts()\n",
    "makes_to_keep = make_counts[make_counts >= threshold].index"
   ]
  },
  {
   "cell_type": "code",
   "execution_count": 101,
   "id": "fcc97926",
   "metadata": {},
   "outputs": [],
   "source": [
    "df['make'] = df['make'].apply(lambda x: x if x in makes_to_keep else 'other')"
   ]
  },
  {
   "cell_type": "code",
   "execution_count": 102,
   "id": "5679cb87",
   "metadata": {},
   "outputs": [
    {
     "data": {
      "text/plain": [
       "other         60\n",
       "toyota        32\n",
       "nissan        18\n",
       "honda         13\n",
       "mazda         13\n",
       "mitsubishi    13\n",
       "subaru        12\n",
       "volkswagen    12\n",
       "peugot        11\n",
       "volvo         11\n",
       "Name: make, dtype: int64"
      ]
     },
     "execution_count": 102,
     "metadata": {},
     "output_type": "execute_result"
    }
   ],
   "source": [
    "df['make'].value_counts()"
   ]
  },
  {
   "cell_type": "code",
   "execution_count": 103,
   "id": "8946a1c8",
   "metadata": {},
   "outputs": [],
   "source": [
    "make=df['body-style'].value_counts()"
   ]
  },
  {
   "cell_type": "code",
   "execution_count": 104,
   "id": "2dff1bfc",
   "metadata": {},
   "outputs": [],
   "source": [
    "keep=make[make>13].index"
   ]
  },
  {
   "cell_type": "code",
   "execution_count": 105,
   "id": "bf832216",
   "metadata": {},
   "outputs": [
    {
     "data": {
      "text/plain": [
       "Index(['sedan', 'hatchback', 'wagon'], dtype='object')"
      ]
     },
     "execution_count": 105,
     "metadata": {},
     "output_type": "execute_result"
    }
   ],
   "source": [
    "keep"
   ]
  },
  {
   "cell_type": "code",
   "execution_count": 106,
   "id": "f515607e",
   "metadata": {},
   "outputs": [],
   "source": [
    "df['body-style']=df['body-style'].apply(lambda x: x if x in keep else \"Other\")"
   ]
  },
  {
   "cell_type": "code",
   "execution_count": 107,
   "id": "8fc4256c",
   "metadata": {},
   "outputs": [
    {
     "data": {
      "text/plain": [
       "sedan        94\n",
       "hatchback    63\n",
       "wagon        24\n",
       "Other        14\n",
       "Name: body-style, dtype: int64"
      ]
     },
     "execution_count": 107,
     "metadata": {},
     "output_type": "execute_result"
    }
   ],
   "source": [
    "df['body-style'].value_counts()"
   ]
  },
  {
   "cell_type": "code",
   "execution_count": null,
   "id": "46844b28",
   "metadata": {},
   "outputs": [],
   "source": []
  },
  {
   "cell_type": "code",
   "execution_count": null,
   "id": "04fdea1b",
   "metadata": {},
   "outputs": [],
   "source": []
  },
  {
   "cell_type": "code",
   "execution_count": null,
   "id": "37017f6a",
   "metadata": {},
   "outputs": [],
   "source": []
  },
  {
   "cell_type": "code",
   "execution_count": null,
   "id": "9db53d29",
   "metadata": {},
   "outputs": [],
   "source": []
  }
 ],
 "metadata": {
  "kernelspec": {
   "display_name": "Python 3 (ipykernel)",
   "language": "python",
   "name": "python3"
  },
  "language_info": {
   "codemirror_mode": {
    "name": "ipython",
    "version": 3
   },
   "file_extension": ".py",
   "mimetype": "text/x-python",
   "name": "python",
   "nbconvert_exporter": "python",
   "pygments_lexer": "ipython3",
   "version": "3.9.13"
  }
 },
 "nbformat": 4,
 "nbformat_minor": 5
}
